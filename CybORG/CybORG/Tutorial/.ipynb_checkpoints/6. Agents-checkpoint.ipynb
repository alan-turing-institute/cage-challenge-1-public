{
 "cells": [
  {
   "cell_type": "markdown",
   "metadata": {},
   "source": [
    "### Red Agents"
   ]
  },
  {
   "cell_type": "markdown",
   "metadata": {},
   "source": [
    "Scenario 1b has two rules-based Red Agents. The first is our good friend the B_lineAgent. This represents an actor who has inside information, so is able to beeline straight towards the OpServer."
   ]
  },
  {
   "cell_type": "code",
   "execution_count": 1,
   "metadata": {},
   "outputs": [
    {
     "name": "stdout",
     "output_type": "stream",
     "text": [
      "DiscoverRemoteSystems 10.0.114.144/28\n",
      "DiscoverNetworkServices 10.0.114.149\n",
      "ExploitRemoteService 10.0.114.149\n",
      "PrivilegeEscalate User1\n",
      "DiscoverNetworkServices 10.0.214.51\n",
      "ExploitRemoteService 10.0.214.51\n",
      "PrivilegeEscalate Enterprise1\n",
      "DiscoverRemoteSystems 10.0.214.48/28\n",
      "DiscoverNetworkServices 10.0.214.56\n",
      "ExploitRemoteService 10.0.214.56\n",
      "PrivilegeEscalate Enterprise2\n",
      "DiscoverNetworkServices 10.0.62.185\n",
      "ExploitRemoteService 10.0.62.185\n",
      "PrivilegeEscalate Op_Server0\n",
      "Impact Op_Server0\n",
      "Impact Op_Server0\n"
     ]
    }
   ],
   "source": [
    "import inspect\n",
    "from pprint import pprint\n",
    "from CybORG import CybORG\n",
    "from CybORG.Agents import *\n",
    "from CybORG.Shared.Actions import *\n",
    "\n",
    "path = str(inspect.getfile(CybORG))\n",
    "path = path[:-10] + '/Shared/Scenarios/Scenario1b.yaml'\n",
    "\n",
    "env = CybORG(path,'sim')\n",
    "\n",
    "agent = B_lineAgent()\n",
    "\n",
    "results = env.reset('Red')\n",
    "obs = results.observation\n",
    "action_space = results.action_space\n",
    "\n",
    "for i in range(16):\n",
    "    action = agent.get_action(obs,action_space)\n",
    "    results = env.step(action=action,agent='Red')\n",
    "    obs = results.observation\n",
    "    \n",
    "    print(action)"
   ]
  },
  {
   "cell_type": "markdown",
   "metadata": {},
   "source": [
    "This agent runs along a predetermined path to the Op_Server, but is smart enough able to recover its position if interrupted. We can see below after Blue Team restores some hosts, the agent works out where the error in and re-exploits its way to the Op_Server."
   ]
  },
  {
   "cell_type": "code",
   "execution_count": 2,
   "metadata": {},
   "outputs": [
    {
     "name": "stdout",
     "output_type": "stream",
     "text": [
      "Impact Op_Server0\n",
      "Success: FALSE\n",
      "PrivilegeEscalate Op_Server0\n",
      "Success: FALSE\n",
      "ExploitRemoteService 10.0.62.185\n",
      "Success: FALSE\n",
      "ExploitRemoteService 10.0.214.56\n",
      "Success: TRUE\n",
      "PrivilegeEscalate Enterprise2\n",
      "Success: TRUE\n",
      "DiscoverNetworkServices 10.0.62.185\n",
      "Success: TRUE\n",
      "ExploitRemoteService 10.0.62.185\n",
      "Success: TRUE\n",
      "PrivilegeEscalate Op_Server0\n",
      "Success: TRUE\n",
      "Impact Op_Server0\n",
      "Success: TRUE\n",
      "Impact Op_Server0\n",
      "Success: TRUE\n",
      "Impact Op_Server0\n",
      "Success: TRUE\n",
      "Impact Op_Server0\n",
      "Success: TRUE\n"
     ]
    }
   ],
   "source": [
    "action = Restore(hostname='Op_Server0',session=0,agent='Blue')\n",
    "env.step(action=action,agent='Blue')\n",
    "\n",
    "action = Restore(hostname='Enterprise2',session=0,agent='Blue')\n",
    "env.step(action=action,agent='Blue')\n",
    "\n",
    "action = Restore(hostname='Enterprise1',session=0,agent='Blue')\n",
    "env.step(action=action,agent='Blue')\n",
    "\n",
    "for i in range(12):\n",
    "    action = agent.get_action(obs,action_space)\n",
    "    results = env.step(action=action,agent='Red')\n",
    "    obs = results.observation\n",
    "            \n",
    "    print(action)\n",
    "    print('Success:',obs['success'])"
   ]
  },
  {
   "cell_type": "markdown",
   "metadata": {},
   "source": [
    "The other red agent is the MeanderAgent. This performs a breadth first search on all known hosts, scanning each one in turn, before attempting a mix of exploit and privilege escalate on the rest. This is an extremely slow agent in contrast to the laser-focussed B_lineAgent."
   ]
  },
  {
   "cell_type": "code",
   "execution_count": 3,
   "metadata": {},
   "outputs": [
    {
     "name": "stdout",
     "output_type": "stream",
     "text": [
      "DiscoverRemoteSystems 10.0.153.64/28\n",
      "DiscoverNetworkServices 10.0.153.66\n",
      "DiscoverNetworkServices 10.0.153.72\n",
      "DiscoverNetworkServices 10.0.153.68\n",
      "DiscoverNetworkServices 10.0.153.74\n",
      "DiscoverNetworkServices 10.0.153.78\n",
      "PrivilegeEscalate User0\n",
      "ExploitRemoteService 10.0.153.66\n",
      "ExploitRemoteService 10.0.153.72\n",
      "PrivilegeEscalate User1\n",
      "DiscoverNetworkServices 10.0.172.38\n",
      "ExploitRemoteService 10.0.172.38\n",
      "PrivilegeEscalate Enterprise1\n",
      "DiscoverRemoteSystems 10.0.172.32/28\n",
      "DiscoverNetworkServices 10.0.172.34\n",
      "DiscoverNetworkServices 10.0.172.46\n",
      "DiscoverNetworkServices 10.0.172.36\n",
      "ExploitRemoteService 10.0.172.34\n",
      "PrivilegeEscalate Enterprise1\n",
      "PrivilegeEscalate User0\n",
      "PrivilegeEscalate User1\n",
      "ExploitRemoteService 10.0.172.46\n",
      "PrivilegeEscalate Enterprise0\n",
      "ExploitRemoteService 10.0.172.36\n",
      "PrivilegeEscalate Enterprise2\n",
      "DiscoverNetworkServices 10.0.91.114\n",
      "ExploitRemoteService 10.0.91.114\n",
      "PrivilegeEscalate Op_Server0\n",
      "DiscoverRemoteSystems 10.0.91.112/28\n",
      "DiscoverNetworkServices 10.0.91.113\n",
      "DiscoverNetworkServices 10.0.91.117\n",
      "DiscoverNetworkServices 10.0.91.118\n",
      "ExploitRemoteService 10.0.91.113\n",
      "PrivilegeEscalate Op_Host0\n",
      "ExploitRemoteService 10.0.91.117\n",
      "PrivilegeEscalate Op_Host1\n",
      "ExploitRemoteService 10.0.91.118\n",
      "PrivilegeEscalate Op_Host2\n",
      "ExploitRemoteService 10.0.153.68\n",
      "PrivilegeEscalate User2\n",
      "ExploitRemoteService 10.0.153.74\n",
      "PrivilegeEscalate User3\n",
      "ExploitRemoteService 10.0.153.78\n",
      "PrivilegeEscalate User4\n",
      "Impact Op_Server0\n",
      "Impact Op_Server0\n"
     ]
    }
   ],
   "source": [
    "agent = RedMeanderAgent()\n",
    "\n",
    "results = env.reset('Red')\n",
    "obs = results.observation\n",
    "action_space = results.action_space\n",
    "\n",
    "for i in range(46):\n",
    "    action = agent.get_action(obs,action_space)\n",
    "    results = env.step(action=action,agent='Red')\n",
    "    obs = results.observation\n",
    "    \n",
    "    print(action)"
   ]
  },
  {
   "cell_type": "markdown",
   "metadata": {},
   "source": [
    "The Meander Agent is also able to recover from Blue's disruption."
   ]
  },
  {
   "cell_type": "code",
   "execution_count": 4,
   "metadata": {},
   "outputs": [
    {
     "name": "stdout",
     "output_type": "stream",
     "text": [
      "Impact Op_Server0\n",
      "ExploitRemoteService 10.0.91.114\n",
      "PrivilegeEscalate Enterprise0\n",
      "PrivilegeEscalate Enterprise1\n",
      "PrivilegeEscalate Enterprise2\n",
      "PrivilegeEscalate Op_Host0\n",
      "PrivilegeEscalate Op_Host1\n",
      "PrivilegeEscalate Op_Host2\n",
      "PrivilegeEscalate Op_Server0\n",
      "PrivilegeEscalate User0\n",
      "PrivilegeEscalate User1\n",
      "PrivilegeEscalate User2\n",
      "PrivilegeEscalate User3\n",
      "PrivilegeEscalate User4\n",
      "ExploitRemoteService 10.0.172.46\n",
      "PrivilegeEscalate Enterprise0\n",
      "ExploitRemoteService 10.0.172.38\n",
      "PrivilegeEscalate Enterprise1\n",
      "ExploitRemoteService 10.0.172.36\n",
      "PrivilegeEscalate Enterprise2\n",
      "ExploitRemoteService 10.0.91.114\n",
      "PrivilegeEscalate Op_Server0\n",
      "Impact Op_Server0\n",
      "Impact Op_Server0\n"
     ]
    }
   ],
   "source": [
    "action = Restore(hostname='Op_Server0',session=0,agent='Blue')\n",
    "env.step(action=action,agent='Blue')\n",
    "\n",
    "action = Restore(hostname='Enterprise2',session=0,agent='Blue')\n",
    "env.step(action=action,agent='Blue')\n",
    "\n",
    "action = Restore(hostname='Enterprise1',session=0,agent='Blue')\n",
    "env.step(action=action,agent='Blue')\n",
    "\n",
    "action = Restore(hostname='Enterprise0',session=0,agent='Blue')\n",
    "env.step(action=action,agent='Blue')\n",
    "\n",
    "for i in range(24):\n",
    "    action = agent.get_action(obs,action_space)\n",
    "    results = env.step(action=action,agent='Red')\n",
    "    obs = results.observation\n",
    "    print(env.get_last_action('Red'))"
   ]
  },
  {
   "cell_type": "markdown",
   "metadata": {},
   "source": [
    "### Blue Agents"
   ]
  },
  {
   "cell_type": "markdown",
   "metadata": {},
   "source": [
    "The BlueReactRemoveAgent will wait until it sees suspicious activity, before using remove on all the hosts it has flagged. However, due to the 5% change that Red's exploit is missed, Red will always eventually get to the Op_Server."
   ]
  },
  {
   "cell_type": "code",
   "execution_count": 5,
   "metadata": {},
   "outputs": [
    {
     "name": "stdout",
     "output_type": "stream",
     "text": [
      "Monitor\n",
      "Monitor\n",
      "Monitor\n",
      "Remove User1\n",
      "Monitor\n",
      "Monitor\n",
      "Remove Enterprise1\n",
      "Monitor\n",
      "Remove Enterprise1\n",
      "Monitor\n",
      "Remove Enterprise1\n",
      "Monitor\n"
     ]
    }
   ],
   "source": [
    "env = CybORG(path,'sim',agents={'Red':B_lineAgent})\n",
    "\n",
    "agent = BlueReactRemoveAgent()\n",
    "\n",
    "results = env.reset('Blue')\n",
    "obs = results.observation\n",
    "action_space = results.action_space\n",
    "\n",
    "for i in range(12):\n",
    "    action = agent.get_action(obs,action_space)\n",
    "    results = env.step(action=action,agent='Blue')\n",
    "    obs = results.observation\n",
    "    print(env.get_last_action('Blue'))"
   ]
  },
  {
   "cell_type": "markdown",
   "metadata": {},
   "source": [
    "The BlueReactRestoreAgent is the same as the React agent above, but uses the Restore action."
   ]
  },
  {
   "cell_type": "code",
   "execution_count": 6,
   "metadata": {},
   "outputs": [
    {
     "name": "stdout",
     "output_type": "stream",
     "text": [
      "Monitor\n",
      "Monitor\n",
      "Monitor\n",
      "Restore User1\n",
      "Monitor\n",
      "Restore User1\n",
      "Monitor\n",
      "Restore User1\n",
      "Monitor\n",
      "Monitor\n",
      "Monitor\n",
      "Monitor\n"
     ]
    }
   ],
   "source": [
    "agent = BlueReactRestoreAgent()\n",
    "\n",
    "results = env.reset('Blue')\n",
    "obs = results.observation\n",
    "action_space = results.action_space\n",
    "\n",
    "for i in range(12):\n",
    "    action = agent.get_action(obs,action_space)\n",
    "    results = env.step(action=action,agent='Blue')\n",
    "    obs = results.observation\n",
    "    print(env.get_last_action('Blue'))"
   ]
  },
  {
   "cell_type": "markdown",
   "metadata": {},
   "source": [
    "### Green Agent"
   ]
  },
  {
   "cell_type": "markdown",
   "metadata": {},
   "source": [
    "An important part of CybORG Scenario1b is the Green agent, which represents the users on the network. The Green Agent is very simple, it only performs a scanning action on random hosts some of the time. This is only visible by Blue Agent."
   ]
  },
  {
   "cell_type": "code",
   "execution_count": 7,
   "metadata": {},
   "outputs": [
    {
     "name": "stdout",
     "output_type": "stream",
     "text": [
      "GreenPortScan\n",
      "GreenPortScan\n",
      "Sleep\n",
      "GreenPortScan\n",
      "GreenPortScan\n",
      "GreenPortScan\n",
      "GreenPortScan\n",
      "GreenPortScan\n",
      "Sleep\n",
      "GreenPortScan\n",
      "Sleep\n",
      "Sleep\n"
     ]
    }
   ],
   "source": [
    "agent = GreenAgent()\n",
    "\n",
    "results = env.reset('Green')\n",
    "obs = results.observation\n",
    "action_space = results.action_space\n",
    "\n",
    "for i in range(12):\n",
    "    print(agent.get_action(obs,action_space))"
   ]
  },
  {
   "cell_type": "markdown",
   "metadata": {},
   "source": [
    "### Keyboard Agent"
   ]
  },
  {
   "cell_type": "markdown",
   "metadata": {},
   "source": [
    "The KeyboardAgent allows a human user to manually choose actions. This is useful for getting an intuition for the scenario."
   ]
  },
  {
   "cell_type": "code",
   "execution_count": 8,
   "metadata": {},
   "outputs": [
    {
     "name": "stdout",
     "output_type": "stream",
     "text": [
      "+----------------+-------------+----------+---------+------------+\n",
      "|     Subnet     |  IP Address | Hostname | Scanned |   Access   |\n",
      "+----------------+-------------+----------+---------+------------+\n",
      "| 10.0.50.144/28 | 10.0.50.150 |  User0   |  False  | Privileged |\n",
      "+----------------+-------------+----------+---------+------------+\n",
      "\n",
      "************************************ Turn 1: Observation *************************************\n",
      "\n",
      "+----------------+-------------+----------+---------+------------+\n",
      "|     Subnet     |  IP Address | Hostname | Scanned |   Access   |\n",
      "+----------------+-------------+----------+---------+------------+\n",
      "| 10.0.50.144/28 | 10.0.50.150 |  User0   |  False  | Privileged |\n",
      "+----------------+-------------+----------+---------+------------+\n",
      "\n",
      "********************************* Turn 1: Command Selection **********************************\n",
      "\n",
      "0 Sleep\n",
      "1 DiscoverRemoteSystems\n",
      "2 DiscoverNetworkServices\n",
      "3 ExploitRemoteService\n",
      "4 PrivilegeEscalate\n",
      "5 Impact\n"
     ]
    },
    {
     "name": "stdin",
     "output_type": "stream",
     "text": [
      "----------------------------------------------------------------------------------------------\n",
      "CHOOSE A COMMAND:  1\n"
     ]
    },
    {
     "name": "stdout",
     "output_type": "stream",
     "text": [
      "You chose DiscoverRemoteSystems.\n",
      "\n",
      "\n",
      "******************************** Turn 1: Parameter Selection *********************************\n",
      "\n",
      "\n",
      "------------------------------------- Session Selection --------------------------------------\n",
      "Automatically choosing 0 as it is the only option.\n",
      "-------------------------------------- Agent Selection ---------------------------------------\n",
      "Automatically choosing Red as it is the only option.\n",
      "-------------------------------------- Subnet Selection --------------------------------------\n",
      "Automatically choosing 10.0.50.144/28 as it is the only option.\n",
      "+----------------+-------------+-----------------+---------+------------+\n",
      "|     Subnet     |  IP Address |     Hostname    | Scanned |   Access   |\n",
      "+----------------+-------------+-----------------+---------+------------+\n",
      "| 10.0.50.144/28 | 10.0.50.150 |      User0      |  False  | Privileged |\n",
      "| 10.0.50.144/28 | 10.0.50.152 | UNKNOWN_HOST: 3 |  False  |    None    |\n",
      "| 10.0.50.144/28 | 10.0.50.153 | UNKNOWN_HOST: 0 |  False  |    None    |\n",
      "| 10.0.50.144/28 | 10.0.50.155 | UNKNOWN_HOST: 1 |  False  |    None    |\n",
      "| 10.0.50.144/28 | 10.0.50.157 | UNKNOWN_HOST: 2 |  False  |    None    |\n",
      "+----------------+-------------+-----------------+---------+------------+\n",
      "\n",
      "************************************ Turn 2: Observation *************************************\n",
      "\n",
      "+----------------+-------------+-----------------+---------+------------+\n",
      "|     Subnet     |  IP Address |     Hostname    | Scanned |   Access   |\n",
      "+----------------+-------------+-----------------+---------+------------+\n",
      "| 10.0.50.144/28 | 10.0.50.150 |      User0      |  False  | Privileged |\n",
      "| 10.0.50.144/28 | 10.0.50.152 | UNKNOWN_HOST: 3 |  False  |    None    |\n",
      "| 10.0.50.144/28 | 10.0.50.153 | UNKNOWN_HOST: 0 |  False  |    None    |\n",
      "| 10.0.50.144/28 | 10.0.50.155 | UNKNOWN_HOST: 1 |  False  |    None    |\n",
      "| 10.0.50.144/28 | 10.0.50.157 | UNKNOWN_HOST: 2 |  False  |    None    |\n",
      "+----------------+-------------+-----------------+---------+------------+\n",
      "----------------------------------------------------------------------------------------------\n",
      "Yay! The Action was a Success!\n",
      "**********************************************************************************************\n",
      "\n",
      "********************************* Turn 2: Command Selection **********************************\n",
      "\n",
      "0 Sleep\n",
      "1 DiscoverRemoteSystems\n",
      "2 DiscoverNetworkServices\n",
      "3 ExploitRemoteService\n",
      "4 PrivilegeEscalate\n",
      "5 Impact\n"
     ]
    },
    {
     "name": "stdin",
     "output_type": "stream",
     "text": [
      "----------------------------------------------------------------------------------------------\n",
      "CHOOSE A COMMAND:  2\n"
     ]
    },
    {
     "name": "stdout",
     "output_type": "stream",
     "text": [
      "You chose DiscoverNetworkServices.\n",
      "\n",
      "\n",
      "******************************** Turn 2: Parameter Selection *********************************\n",
      "\n",
      "\n",
      "------------------------------------- Session Selection --------------------------------------\n",
      "Automatically choosing 0 as it is the only option.\n",
      "-------------------------------------- Agent Selection ---------------------------------------\n",
      "Automatically choosing Red as it is the only option.\n",
      "------------------------------------ Ip_address Selection ------------------------------------\n",
      "0 10.0.50.150\n",
      "1 10.0.50.153\n",
      "2 10.0.50.155\n",
      "3 10.0.50.157\n",
      "4 10.0.50.152\n"
     ]
    },
    {
     "name": "stdin",
     "output_type": "stream",
     "text": [
      "----------------------------------------------------------------------------------------------\n",
      "CHOOSE A PARAMETER:  1\n"
     ]
    },
    {
     "name": "stdout",
     "output_type": "stream",
     "text": [
      "You chose 10.0.50.153.\n",
      "+----------------+-------------+-----------------+---------+------------+\n",
      "|     Subnet     |  IP Address |     Hostname    | Scanned |   Access   |\n",
      "+----------------+-------------+-----------------+---------+------------+\n",
      "| 10.0.50.144/28 | 10.0.50.150 |      User0      |  False  | Privileged |\n",
      "| 10.0.50.144/28 | 10.0.50.152 | UNKNOWN_HOST: 3 |  False  |    None    |\n",
      "| 10.0.50.144/28 | 10.0.50.153 | UNKNOWN_HOST: 0 |   True  |    None    |\n",
      "| 10.0.50.144/28 | 10.0.50.155 | UNKNOWN_HOST: 1 |  False  |    None    |\n",
      "| 10.0.50.144/28 | 10.0.50.157 | UNKNOWN_HOST: 2 |  False  |    None    |\n",
      "+----------------+-------------+-----------------+---------+------------+\n",
      "\n",
      "************************************ Turn 3: Observation *************************************\n",
      "\n",
      "+----------------+-------------+-----------------+---------+------------+\n",
      "|     Subnet     |  IP Address |     Hostname    | Scanned |   Access   |\n",
      "+----------------+-------------+-----------------+---------+------------+\n",
      "| 10.0.50.144/28 | 10.0.50.150 |      User0      |  False  | Privileged |\n",
      "| 10.0.50.144/28 | 10.0.50.152 | UNKNOWN_HOST: 3 |  False  |    None    |\n",
      "| 10.0.50.144/28 | 10.0.50.153 | UNKNOWN_HOST: 0 |   True  |    None    |\n",
      "| 10.0.50.144/28 | 10.0.50.155 | UNKNOWN_HOST: 1 |  False  |    None    |\n",
      "| 10.0.50.144/28 | 10.0.50.157 | UNKNOWN_HOST: 2 |  False  |    None    |\n",
      "+----------------+-------------+-----------------+---------+------------+\n",
      "----------------------------------------------------------------------------------------------\n",
      "Yay! The Action was a Success!\n",
      "**********************************************************************************************\n",
      "\n",
      "********************************* Turn 3: Command Selection **********************************\n",
      "\n",
      "0 Sleep\n",
      "1 DiscoverRemoteSystems\n",
      "2 DiscoverNetworkServices\n",
      "3 ExploitRemoteService\n",
      "4 PrivilegeEscalate\n",
      "5 Impact\n"
     ]
    },
    {
     "name": "stdin",
     "output_type": "stream",
     "text": [
      "----------------------------------------------------------------------------------------------\n",
      "CHOOSE A COMMAND:  3\n"
     ]
    },
    {
     "name": "stdout",
     "output_type": "stream",
     "text": [
      "You chose ExploitRemoteService.\n",
      "\n",
      "\n",
      "******************************** Turn 3: Parameter Selection *********************************\n",
      "\n",
      "\n",
      "------------------------------------- Session Selection --------------------------------------\n",
      "Automatically choosing 0 as it is the only option.\n",
      "-------------------------------------- Agent Selection ---------------------------------------\n",
      "Automatically choosing Red as it is the only option.\n",
      "------------------------------------ Ip_address Selection ------------------------------------\n",
      "0 10.0.50.150\n",
      "1 10.0.50.153\n",
      "2 10.0.50.155\n",
      "3 10.0.50.157\n",
      "4 10.0.50.152\n"
     ]
    },
    {
     "name": "stdin",
     "output_type": "stream",
     "text": [
      "----------------------------------------------------------------------------------------------\n",
      "CHOOSE A PARAMETER:  1\n"
     ]
    },
    {
     "name": "stdout",
     "output_type": "stream",
     "text": [
      "You chose 10.0.50.153.\n"
     ]
    }
   ],
   "source": [
    "from CybORG.Agents.Wrappers import RedTableWrapper\n",
    "\n",
    "cyborg = CybORG(path, 'sim',agents={'Blue':BlueMonitorAgent})\n",
    "env = RedTableWrapper(env=cyborg, output_mode='table')\n",
    "\n",
    "agent = KeyboardAgent()\n",
    "\n",
    "results = env.reset('Red')\n",
    "obs = results.observation\n",
    "action_space = results.action_space\n",
    "\n",
    "for i in range(3):\n",
    "    print(obs)\n",
    "    action = agent.get_action(obs,action_space)\n",
    "    results = env.step(action=action,agent='Red')\n",
    "    obs = results.observation"
   ]
  },
  {
   "cell_type": "code",
   "execution_count": null,
   "metadata": {},
   "outputs": [],
   "source": []
  }
 ],
 "metadata": {
  "kernelspec": {
   "display_name": "Python 3",
   "language": "python",
   "name": "python3"
  },
  "language_info": {
   "codemirror_mode": {
    "name": "ipython",
    "version": 3
   },
   "file_extension": ".py",
   "mimetype": "text/x-python",
   "name": "python",
   "nbconvert_exporter": "python",
   "pygments_lexer": "ipython3",
   "version": "3.7.5"
  }
 },
 "nbformat": 4,
 "nbformat_minor": 4
}
